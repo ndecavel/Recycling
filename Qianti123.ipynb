{
 "cells": [
  {
   "cell_type": "markdown",
   "metadata": {
    "collapsed": true
   },
   "source": [
    "os.listdir(os.path.join(os.getcwd(),\"dataset-resized\"))"
   ]
  },
  {
   "cell_type": "code",
   "execution_count": 7,
   "metadata": {},
   "outputs": [],
   "source": [
    "# # from fastai.vision import *\n",
    "# # from fastai.metrics import error_rate\n",
    "# from pathlib import Path\n",
    "# from glob2 import glob\n",
    "# from sklearn.metrics import confusion_matrix\n",
    "\n",
    "#pip instal opencv, Keras, tensorflow\n",
    "\n",
    "import pandas as pd\n",
    "import numpy as np\n",
    "import os\n",
    "import zipfile as zp\n",
    "import shutil\n",
    "import re\n",
    "import seaborn as sns"
   ]
  },
  {
   "cell_type": "code",
   "execution_count": 8,
   "metadata": {},
   "outputs": [],
   "source": [
    "import cv2 as cv\n",
    "import glob as gb\n",
    "import matplotlib.pyplot as plt"
   ]
  },
  {
   "cell_type": "code",
   "execution_count": 9,
   "metadata": {},
   "outputs": [],
   "source": [
    "files = zp.ZipFile(\"dataset-resized.zip\",'r')\n",
    "files.extractall('./')\n",
    "files.close()"
   ]
  },
  {
   "cell_type": "code",
   "execution_count": 10,
   "metadata": {},
   "outputs": [
    {
     "name": "stdout",
     "output_type": "stream",
     "text": [
      "['paper', 'metal', 'cardboard', 'trash', 'glass', 'plastic']\n"
     ]
    }
   ],
   "source": [
    "types = os.listdir(os.path.join(os.getcwd(),\"dataset-resized\"))\n",
    "types.remove('.DS_Store')\n",
    "print(types)"
   ]
  },
  {
   "cell_type": "code",
   "execution_count": 11,
   "metadata": {},
   "outputs": [],
   "source": [
    "from keras.preprocessing.image import ImageDataGenerator, array_to_img, img_to_array, load_img\n",
    "\n",
    "datagen = ImageDataGenerator(\n",
    "        rotation_range=40,\n",
    "        width_shift_range=0.2,\n",
    "        height_shift_range=0.2,\n",
    "        shear_range=0.2,\n",
    "        zoom_range=0.2,\n",
    "        horizontal_flip=True,\n",
    "        fill_mode='nearest')\n",
    "\n",
    "for k in range(len(types)):\n",
    "    folder = types[k]\n",
    "    filenames = gb.glob(folder+\"/*.jpg\")\n",
    "    images = [cv.imread(img) for img in filenames]\n",
    "    for _ in range(len(images)):\n",
    "        images[_] = images[_].reshape((1,) + images[_].shape)\n",
    "  \n",
    "    i = 0\n",
    "    for j in range(len(images)):\n",
    "        for batch in datagen.flow(imagess[j], batch_size=1,\n",
    "            save_to_dir= folder, save_prefix='rand', save_format='jpg'):\n",
    "            i += 1\n",
    "            if i > 4:\n",
    "                break"
   ]
  },
  {
   "cell_type": "code",
   "execution_count": null,
   "metadata": {
    "collapsed": true
   },
   "outputs": [],
   "source": []
  }
 ],
 "metadata": {
  "kernelspec": {
   "display_name": "Python 3",
   "language": "python",
   "name": "python3"
  },
  "language_info": {
   "codemirror_mode": {
    "name": "ipython",
    "version": 3
   },
   "file_extension": ".py",
   "mimetype": "text/x-python",
   "name": "python",
   "nbconvert_exporter": "python",
   "pygments_lexer": "ipython3",
   "version": "3.6.8"
  }
 },
 "nbformat": 4,
 "nbformat_minor": 2
}
