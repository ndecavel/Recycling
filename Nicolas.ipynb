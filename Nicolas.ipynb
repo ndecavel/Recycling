{
 "cells": [
  {
   "cell_type": "code",
   "execution_count": 11,
   "metadata": {},
   "outputs": [
    {
     "name": "stdout",
     "output_type": "stream",
     "text": [
      "Aisha.ipynb                   \u001b[34mdataset-original\u001b[m\u001b[m\r\n",
      "Design.md                     dataset-original.zip\r\n",
      "Nicolas.ipynb                 nara.ipynb\r\n",
      "Qianti.ipynb                  plastic-recycling-codes.zip\r\n",
      "README.md                     waste-classification-data.zip\r\n",
      "\u001b[34m__MACOSX\u001b[m\u001b[m\r\n"
     ]
    }
   ],
   "source": [
    "!ls"
   ]
  },
  {
   "cell_type": "code",
   "execution_count": 19,
   "metadata": {},
   "outputs": [],
   "source": [
    "!unzip -qq dataset-original.zip"
   ]
  },
  {
   "cell_type": "code",
   "execution_count": 16,
   "metadata": {},
   "outputs": [
    {
     "name": "stdout",
     "output_type": "stream",
     "text": [
      "Aisha.ipynb                   \u001b[34mdataset-original\u001b[m\u001b[m\r\n",
      "Design.md                     dataset-original.zip\r\n",
      "Nicolas.ipynb                 nara.ipynb\r\n",
      "Qianti.ipynb                  plastic-recycling-codes.zip\r\n",
      "README.md                     waste-classification-data.zip\r\n",
      "\u001b[34m__MACOSX\u001b[m\u001b[m\r\n"
     ]
    }
   ],
   "source": [
    "!ls"
   ]
  },
  {
   "cell_type": "code",
   "execution_count": 17,
   "metadata": {},
   "outputs": [],
   "source": [
    "!rm -rf dataset-original/ __MACOSX/"
   ]
  },
  {
   "cell_type": "code",
   "execution_count": 18,
   "metadata": {},
   "outputs": [
    {
     "name": "stdout",
     "output_type": "stream",
     "text": [
      "Aisha.ipynb                   dataset-original.zip\r\n",
      "Design.md                     nara.ipynb\r\n",
      "Nicolas.ipynb                 plastic-recycling-codes.zip\r\n",
      "Qianti.ipynb                  waste-classification-data.zip\r\n",
      "README.md\r\n"
     ]
    }
   ],
   "source": [
    "!ls"
   ]
  },
  {
   "cell_type": "code",
   "execution_count": 20,
   "metadata": {},
   "outputs": [
    {
     "name": "stdout",
     "output_type": "stream",
     "text": [
      "Aisha.ipynb                   \u001b[34mdataset-original\u001b[m\u001b[m\r\n",
      "Design.md                     dataset-original.zip\r\n",
      "Nicolas.ipynb                 nara.ipynb\r\n",
      "Qianti.ipynb                  plastic-recycling-codes.zip\r\n",
      "README.md                     waste-classification-data.zip\r\n",
      "\u001b[34m__MACOSX\u001b[m\u001b[m\r\n"
     ]
    }
   ],
   "source": [
    "!ls"
   ]
  },
  {
   "cell_type": "code",
   "execution_count": 21,
   "metadata": {},
   "outputs": [],
   "source": [
    "!unzip -qq waste-classification-data.zip"
   ]
  },
  {
   "cell_type": "code",
   "execution_count": 22,
   "metadata": {},
   "outputs": [
    {
     "name": "stdout",
     "output_type": "stream",
     "text": [
      "Aisha.ipynb                   \u001b[34m__MACOSX\u001b[m\u001b[m\r\n",
      "\u001b[34mDATASET\u001b[m\u001b[m                       \u001b[34mdataset-original\u001b[m\u001b[m\r\n",
      "Design.md                     dataset-original.zip\r\n",
      "Nicolas.ipynb                 nara.ipynb\r\n",
      "Qianti.ipynb                  plastic-recycling-codes.zip\r\n",
      "README.md                     waste-classification-data.zip\r\n"
     ]
    }
   ],
   "source": [
    "!ls"
   ]
  },
  {
   "cell_type": "code",
   "execution_count": 23,
   "metadata": {},
   "outputs": [],
   "source": [
    "!rm -rf DATASET/"
   ]
  },
  {
   "cell_type": "code",
   "execution_count": 45,
   "metadata": {},
   "outputs": [],
   "source": [
    "import tensorflow as tf\n",
    "import matplotlib.pyplot as plt\n",
    "from tensorflow.keras.preprocessing.image import ImageDataGenerator\n",
    "batch_size = 32\n",
    "\n",
    "# this is the augmentation configuration we will use for training\n",
    "train_datagen = ImageDataGenerator(\n",
    "        rescale=1./255,\n",
    "        shear_range=0.3,\n",
    "        zoom_range=0.4,\n",
    "        rotation_range=90,\n",
    "        horizontal_flip=True,\n",
    "        preprocessing_function = preprocess_image\n",
    ")\n",
    "\n",
    "# this is the augmentation configuration we will use for testing:\n",
    "# only rescaling\n",
    "test_datagen = ImageDataGenerator(rescale=1./255)#, preprocessing_function = preprocess_image)\n",
    "\n",
    "# this is a generator that will read pictures found in\n",
    "# subfolers of 'data/train', and indefinitely generate\n",
    "# batches of augmented image data\n",
    "train_generator = train_datagen.flow_from_directory(\n",
    "        './hot-dog-not-hot-dog/train',  # this is the target directory\n",
    "        target_size=(100, 100),  # all images will be resized to 100x100\n",
    "        batch_size=batch_size,\n",
    "        class_mode='categorical')  # since we use binary_crossentropy loss, we need categorical labels\n",
    "\n",
    "# this is a similar generator, for validation data\n",
    "validation_generator = test_datagen.flow_from_directory(\n",
    "        './hot-dog-not-hot-dog/validation',\n",
    "        target_size=(100, 100),\n",
    "        batch_size=batch_size,\n",
    "        class_mode='categorical')\n",
    "\n",
    "# this is a similar generator, for validation data\n",
    "test_generator = test_datagen.flow_from_directory(\n",
    "        './hot-dog-not-hot-dog/test',\n",
    "        target_size=(100, 100),\n",
    "        batch_size=batch_size, \n",
    "        class_mode='categorical')"
   ]
  },
  {
   "cell_type": "code",
   "execution_count": null,
   "metadata": {},
   "outputs": [],
   "source": []
  }
 ],
 "metadata": {
  "kernelspec": {
   "display_name": "Python 3",
   "language": "python",
   "name": "python3"
  },
  "language_info": {
   "codemirror_mode": {
    "name": "ipython",
    "version": 3
   },
   "file_extension": ".py",
   "mimetype": "text/x-python",
   "name": "python",
   "nbconvert_exporter": "python",
   "pygments_lexer": "ipython3",
   "version": "3.7.1"
  }
 },
 "nbformat": 4,
 "nbformat_minor": 2
}
