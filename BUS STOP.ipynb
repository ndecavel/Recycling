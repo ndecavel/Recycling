{
 "cells": [
  {
   "cell_type": "code",
   "execution_count": null,
   "metadata": {
    "collapsed": true
   },
   "outputs": [],
   "source": [
    "def get_immediate_subdirectories(a_dir):\n",
    "    return [name for name in os.listdir(a_dir)\n",
    "            if os.path.isdir(os.path.join(a_dir, name))]\n",
    "'''\n",
    "function: resize\n",
    "input: subdirectory (type of waste in our case)\n",
    "output: go through Photos and V_Photos subdirectory and move resized images \n",
    "        into a new directory while disregarding any corrupt images\n",
    "\n",
    "'''\n",
    "def resize(waste):\n",
    "    #create categories folder in resize dataset\n",
    "    folder_path = os.path.join(dataset_path, waste)\n",
    "    save_path = os.path.join(resize_path, waste) \n",
    "\n",
    "    if not os.path.exists(save_path):\n",
    "        os.mkdir(save_path)\n",
    "    \n",
    "    count = 0\n",
    "    total = 0\n",
    "    \n",
    "    for folder in get_immediate_subdirectories(folder_path):\n",
    "        file_path = os.path.join(folder_path,folder)\n",
    "        for filename in os.listdir(file_path):\n",
    "            img = cv.imread(os.path.join(file_path,filename))\n",
    "            total += 1\n",
    "            if img is None:\n",
    "                count += 1\n",
    "                continue\n",
    "            \n",
    "            r_img = cv.resize(img, new_size)\n",
    "            cv.imwrite(os.path.join(save_path,filename), r_img)\n",
    "    \n",
    "    print(waste, 'photos have', count, 'corrupted files out of', total)    "
   ]
  },
  {
   "cell_type": "code",
   "execution_count": null,
   "metadata": {
    "collapsed": true
   },
   "outputs": [],
   "source": [
    "# subsets = ['train','valid', 'test']\n",
    "waste_types = ['Cardboard','Glass','Metal','Paper','Plastic','Trash', 'E-Waste']\n",
    "\n",
    "for waste in waste_types:\n",
    "    rename(waste)"
   ]
  }
 ],
 "metadata": {
  "kernelspec": {
   "display_name": "Python 3",
   "language": "python",
   "name": "python3"
  },
  "language_info": {
   "codemirror_mode": {
    "name": "ipython",
    "version": 3
   },
   "file_extension": ".py",
   "mimetype": "text/x-python",
   "name": "python",
   "nbconvert_exporter": "python",
   "pygments_lexer": "ipython3",
   "version": "3.7.3"
  }
 },
 "nbformat": 4,
 "nbformat_minor": 2
}
