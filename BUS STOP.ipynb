{
 "cells": [
  {
   "cell_type": "code",
   "execution_count": null,
   "metadata": {
    "collapsed": true
   },
   "outputs": [],
   "source": [
    "import os\n",
    "\n",
    "dataset_path = \"/content/drive/My Drive/AMLI Final Project/AMLI-trashnet/\"\n",
    "\n",
    "def rename(waste): \n",
    "    i = 0\n",
    "    file_path = os.path.join(dataset_path, waste, 'Photo')   #Remove 'Photo' if this folder no longer exists\n",
    "    for filename in os.listdir(file_path): \n",
    "        newName = waste + str(i) + \".jpg\"\n",
    "        src = file_path+'/'+ filename \n",
    "        dst = file_path+ '/' + newName \n",
    "        os.rename(src, dst) \n",
    "        i += 1\n",
    "\n",
    "rename('E-Waste')"
   ]
  },
  {
   "cell_type": "code",
   "execution_count": null,
   "metadata": {
    "collapsed": true
   },
   "outputs": [],
   "source": [
    "# subsets = ['train','valid', 'test']\n",
    "waste_types = ['Cardboard','Glass','Metal','Paper','Plastic','Trash', 'E-Waste']\n",
    "\n",
    "for waste in waste_types:\n",
    "    rename(waste)"
   ]
  }
 ],
 "metadata": {
  "kernelspec": {
   "display_name": "Python 3",
   "language": "python",
   "name": "python3"
  },
  "language_info": {
   "codemirror_mode": {
    "name": "ipython",
    "version": 3
   },
   "file_extension": ".py",
   "mimetype": "text/x-python",
   "name": "python",
   "nbconvert_exporter": "python",
   "pygments_lexer": "ipython3",
   "version": "3.6.8"
  }
 },
 "nbformat": 4,
 "nbformat_minor": 2
}
