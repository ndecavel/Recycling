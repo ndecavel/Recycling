{
 "cells": [
  {
   "cell_type": "markdown",
   "metadata": {},
   "source": [
    "# Not done yet (in process code)"
   ]
  },
  {
   "cell_type": "code",
   "execution_count": null,
   "metadata": {},
   "outputs": [],
   "source": [
    "# authenticate\n",
    "from google.colab import auth\n",
    "auth.authenticate_user()"
   ]
  },
  {
   "cell_type": "code",
   "execution_count": null,
   "metadata": {},
   "outputs": [],
   "source": [
    "from google.colab import drive\n",
    "drive.mount('/content/drive')"
   ]
  },
  {
   "cell_type": "code",
   "execution_count": null,
   "metadata": {},
   "outputs": [],
   "source": [
    "%cd /content/drive/My\\ Drive"
   ]
  },
  {
   "cell_type": "code",
   "execution_count": null,
   "metadata": {},
   "outputs": [],
   "source": [
    "!ls"
   ]
  },
  {
   "cell_type": "code",
   "execution_count": null,
   "metadata": {},
   "outputs": [],
   "source": [
    "import cv2\n",
    "import glob\n",
    "import os"
   ]
  },
  {
   "cell_type": "code",
   "execution_count": null,
   "metadata": {},
   "outputs": [],
   "source": [
    "folder = \"NewResized\"\n",
    "if not os.path.exists(folder):\n",
    "    os.makedirs(folder)\n",
    "\n",
    "categories = os.listdir('/content/drive/My Drive/AMLI-trashnet')\n",
    "for category in categories:\n",
    "  new_cat_dir = folder + '/' + category\n",
    "  if not os.path.exists(new_cat_dir):\n",
    "    os.makedirs(new_cat_dir)\n",
    "  imgs = glob.glob('/content/drive/My Drive/AMLI-trashnet/' + category + '/Photo/*.JPG')\n",
    "  imgs.extend(glob.glob('/content/drive/My Drive/AMLI-trashnet/' + category +'/Photo/*.JPEG'))\n",
    "  imgs.extend(glob.glob('/content/drive/My Drive/AMLI-trashnet/' + category +'/Photo/*.jpg'))\n",
    "  imgs.extend(glob.glob('/content/drive/My Drive/AMLI-trashnet/' + category +'/Photo/*.jpeg'))\n",
    "  for img in imgs:\n",
    "    print(img)\n",
    "    file = img.split('/')[-1]\n",
    "    pic = cv2.imread(img, cv2.IMREAD_UNCHANGED)\n",
    "    pic = cv2.resize(pic, (384, 512))\n",
    "    cv2.imwrite(new_cat_dir + '/' + file, pic)"
   ]
  },
  {
   "cell_type": "code",
   "execution_count": null,
   "metadata": {},
   "outputs": [],
   "source": [
    "!gsutil -q cp -r ./new..... gs://original-data-amli"
   ]
  },
  {
   "cell_type": "code",
   "execution_count": null,
   "metadata": {},
   "outputs": [],
   "source": []
  },
  {
   "cell_type": "code",
   "execution_count": null,
   "metadata": {},
   "outputs": [],
   "source": []
  }
 ],
 "metadata": {
  "kernelspec": {
   "display_name": "Python 3",
   "language": "python",
   "name": "python3"
  },
  "language_info": {
   "codemirror_mode": {
    "name": "ipython",
    "version": 3
   },
   "file_extension": ".py",
   "mimetype": "text/x-python",
   "name": "python",
   "nbconvert_exporter": "python",
   "pygments_lexer": "ipython3",
   "version": "3.7.3"
  }
 },
 "nbformat": 4,
 "nbformat_minor": 2
}
