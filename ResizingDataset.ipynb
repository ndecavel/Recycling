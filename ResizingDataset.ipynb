{
 "cells": [
  {
   "cell_type": "markdown",
   "metadata": {},
   "source": [
    "# Not done yet (in process code)"
   ]
  },
  {
   "cell_type": "code",
   "execution_count": null,
   "metadata": {
    "collapsed": true
   },
   "outputs": [],
   "source": [
    "# authenticate\n",
    "from google.colab import auth\n",
    "auth.authenticate_user()"
   ]
  },
  {
   "cell_type": "code",
   "execution_count": null,
   "metadata": {
    "collapsed": true
   },
   "outputs": [],
   "source": [
    "from google.colab import drive\n",
    "drive.mount('/content/drive')"
   ]
  },
  {
   "cell_type": "code",
   "execution_count": null,
   "metadata": {
    "collapsed": true
   },
   "outputs": [],
   "source": [
    "%cd /content/drive/My\\ Drive"
   ]
  },
  {
   "cell_type": "code",
   "execution_count": null,
   "metadata": {
    "collapsed": true
   },
   "outputs": [],
   "source": [
    "!ls"
   ]
  },
  {
   "cell_type": "code",
   "execution_count": null,
   "metadata": {
    "collapsed": true
   },
   "outputs": [],
   "source": [
    "import cv2\n",
    "import glob\n",
    "import os"
   ]
  },
  {
   "cell_type": "code",
   "execution_count": null,
   "metadata": {},
   "outputs": [],
   "source": [
    "# folder = \"AMLI-Newtrashnet\"\n",
    "if not os.path.exists(folder):\n",
    "    os.makedirs(folder)\n",
    "\n",
    "categories = os.listdir('/content/drive/My Drive/Trashnet2')\n",
    "for category in categories:\n",
    "  new_cat_dir = folder + '/' + category\n",
    "  if not os.path.exists(new_cat_dir):\n",
    "    os.makedirs(new_cat_dir)\n",
    "  imgs = glob.glob('/content/drive/My Drive/Trashnet2/' + category + '/*.jpg')\n",
    "  imgs.extend(glob.glob('/content/drive/My Drive/Trashnet2/' + category +'/*.jpeg'))\n",
    "#   imgs.extend(glob.glob('/content/drive/My Drive/AMLI-trashnet/' + category +'/Photo/*.JPG'))\n",
    "  for img in imgs:\n",
    "      if img.endswith(('.jpg' , '.jpeg')):\n",
    "        try:\n",
    "          filename = img.split('/')[-1]\n",
    "          pic = cv2.imread(img, cv2.IMREAD_UNCHANGED)\n",
    "          pic = cv2.resize(pic, (384, 512) , interpolation = cv2.INTER_AREA)\n",
    "          cv2.imwrite(new_cat_dir + '/' + filename.lower(), pic)\n",
    "        except Exception as e:\n",
    "          print(str(e))"
   ]
  },
  {
   "cell_type": "markdown",
   "metadata": {},
   "source": [
    "# Renaming images and replacing JPG with jpg"
   ]
  },
  {
   "cell_type": "code",
   "execution_count": null,
   "metadata": {},
   "outputs": [],
   "source": [
    "# metal\n",
    "import os\n",
    "\n",
    "dataset_path = \"/content/drive/My Drive/AMLI-trashnet/\"\n",
    "\n",
    "def rename(Metal): \n",
    "    i = 0\n",
    "    file_path = os.path.join(dataset_path, Metal, 'Photo')   #Remove 'Photo' if this folder no longer exists\n",
    "    for filename in os.listdir(file_path): \n",
    "        newName = Metal + str(i) + \".jpg\"\n",
    "        src = file_path+'/'+ filename \n",
    "        dst = file_path+ '/' + newName \n",
    "        os.rename(src, dst) \n",
    "        i += 1\n",
    "\n",
    "rename('Metal')"
   ]
  },
  {
   "cell_type": "code",
   "execution_count": null,
   "metadata": {},
   "outputs": [],
   "source": [
    "#glass\n",
    "\n",
    "import os\n",
    "\n",
    "dataset_path = \"/content/drive/My Drive/Trashnet2/\"\n",
    "\n",
    "def rename(Glass): \n",
    "    i = 0\n",
    "    file_path = os.path.join(dataset_path, Glass)   #Remove 'Photo' if this folder no longer exists\n",
    "    for filename in os.listdir(file_path): \n",
    "        newName = Glass + str(i) + \".jpg\"\n",
    "        src = file_path+'/'+ filename \n",
    "        dst = file_path+ '/' + newName \n",
    "        os.rename(src, dst) \n",
    "        i += 1\n",
    "\n",
    "rename('Glass')"
   ]
  },
  {
   "cell_type": "code",
   "execution_count": null,
   "metadata": {},
   "outputs": [],
   "source": [
    "#paper\n",
    "import os\n",
    "\n",
    "dataset_path = \"/content/drive/My Drive/Trashnet2/\"\n",
    "\n",
    "def rename(Paper): \n",
    "    i = 0\n",
    "    file_path = os.path.join(dataset_path, Paper)   #Remove 'Photo' if this folder no longer exists\n",
    "    for filename in os.listdir(file_path): \n",
    "        newName = Paper + str(i) + \".jpg\"\n",
    "        src = file_path+'/'+ filename \n",
    "        dst = file_path+ '/' + newName \n",
    "        os.rename(src, dst) \n",
    "        i += 1\n",
    "\n",
    "rename('Paper')"
   ]
  },
  {
   "cell_type": "code",
   "execution_count": null,
   "metadata": {},
   "outputs": [],
   "source": [
    "#plastic\n",
    "\n",
    "import os\n",
    "\n",
    "dataset_path = \"/content/drive/My Drive/Trashnet2/\"\n",
    "\n",
    "def rename(Plastic): \n",
    "    i = 0\n",
    "    file_path = os.path.join(dataset_path, Plastic)   #Remove 'Photo' if this folder no longer exists\n",
    "    for filename in os.listdir(file_path): \n",
    "        newName = Plastic + str(i) + \".jpg\"\n",
    "        src = file_path+'/'+ filename \n",
    "        dst = file_path+ '/' + newName \n",
    "        os.rename(src, dst) \n",
    "        i += 1\n",
    "\n",
    "rename('Plastic')"
   ]
  },
  {
   "cell_type": "code",
   "execution_count": null,
   "metadata": {},
   "outputs": [],
   "source": [
    "#trash \n",
    "\n",
    "import os\n",
    "\n",
    "dataset_path = \"/content/drive/My Drive/Trashnet2/\"\n",
    "\n",
    "def rename(Trash): \n",
    "    i = 0\n",
    "    file_path = os.path.join(dataset_path, Trash)   #Remove 'Photo' if this folder no longer exists\n",
    "    for filename in os.listdir(file_path): \n",
    "        newName = Trash + str(i) + \".jpg\"\n",
    "        src = file_path+'/'+ filename \n",
    "        dst = file_path+ '/' + newName \n",
    "        os.rename(src, dst) \n",
    "        i += 1\n",
    "\n",
    "rename('Trash')"
   ]
  },
  {
   "cell_type": "code",
   "execution_count": null,
   "metadata": {},
   "outputs": [],
   "source": [
    "# cardboard\n",
    "\n",
    "import os\n",
    "\n",
    "dataset_path = \"/content/drive/My Drive/Trashnet2/\"\n",
    "\n",
    "def rename(Cardboard): \n",
    "    i = 0\n",
    "    file_path = os.path.join(dataset_path, Cardboard)   #Remove 'Photo' if this folder no longer exists\n",
    "    for filename in os.listdir(file_path): \n",
    "        newName = Cardboard + str(i) + \".jpg\"\n",
    "        src = file_path+'/'+ filename \n",
    "        dst = file_path+ '/' + newName \n",
    "        os.rename(src, dst) \n",
    "        i += 1\n",
    "\n",
    "rename('Cardboard')"
   ]
  },
  {
   "cell_type": "markdown",
   "metadata": {},
   "source": [
    "# Extra draft code"
   ]
  },
  {
   "cell_type": "code",
   "execution_count": null,
   "metadata": {
    "collapsed": true
   },
   "outputs": [],
   "source": [
    "folder = \"NewResized\"\n",
    "if not os.path.exists(folder):\n",
    "    os.makedirs(folder)\n",
    "\n",
    "categories = os.listdir('/content/drive/My Drive/AMLI-trashnet')\n",
    "for category in categories:\n",
    "  new_cat_dir = folder + '/' + category\n",
    "  if not os.path.exists(new_cat_dir):\n",
    "    os.makedirs(new_cat_dir)\n",
    "  imgs = glob.glob('/content/drive/My Drive/AMLI-trashnet/' + category + '/Photo/*.JPG')\n",
    "  imgs.extend(glob.glob('/content/drive/My Drive/AMLI-trashnet/' + category +'/Photo/*.JPEG'))\n",
    "  imgs.extend(glob.glob('/content/drive/My Drive/AMLI-trashnet/' + category +'/Photo/*.jpg'))\n",
    "  imgs.extend(glob.glob('/content/drive/My Drive/AMLI-trashnet/' + category +'/Photo/*.jpeg'))\n",
    "  for img in imgs:\n",
    "    print(img)\n",
    "    file = img.split('/')[-1]\n",
    "    pic = cv2.imread(img, cv2.IMREAD_UNCHANGED)\n",
    "    pic = cv2.resize(pic, (384, 512))\n",
    "    cv2.imwrite(new_cat_dir + '/' + file, pic)"
   ]
  },
  {
   "cell_type": "code",
   "execution_count": null,
   "metadata": {},
   "outputs": [],
   "source": []
  },
  {
   "cell_type": "code",
   "execution_count": null,
   "metadata": {
    "collapsed": true
   },
   "outputs": [],
   "source": [
    "!gsutil -q cp -r ./new..... gs://original-data-amli"
   ]
  },
  {
   "cell_type": "code",
   "execution_count": null,
   "metadata": {
    "collapsed": true
   },
   "outputs": [],
   "source": []
  },
  {
   "cell_type": "code",
   "execution_count": null,
   "metadata": {
    "collapsed": true
   },
   "outputs": [],
   "source": []
  }
 ],
 "metadata": {
  "kernelspec": {
   "display_name": "Python 3",
   "language": "python",
   "name": "python3"
  },
  "language_info": {
   "codemirror_mode": {
    "name": "ipython",
    "version": 3
   },
   "file_extension": ".py",
   "mimetype": "text/x-python",
   "name": "python",
   "nbconvert_exporter": "python",
   "pygments_lexer": "ipython3",
   "version": "3.7.3"
  }
 },
 "nbformat": 4,
 "nbformat_minor": 2
}
