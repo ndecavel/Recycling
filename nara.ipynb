{
 "cells": [
  {
   "cell_type": "markdown",
   "metadata": {},
   "source": [
    "# Projects"
   ]
  },
  {
   "cell_type": "code",
   "execution_count": null,
   "metadata": {
    "scrolled": true
   },
   "outputs": [],
   "source": [
    "import pandas as pd\n",
    "import numpy as np\n",
    "import matplotlib.pyplot as plt\n",
    "import tensorflow as tf\n",
    "import math\n",
    "import cv2 as cv\n",
    "import os\n",
    "import glob as gb"
   ]
  },
  {
   "cell_type": "code",
   "execution_count": null,
   "metadata": {},
   "outputs": [],
   "source": [
    "from keras.utils.np_utils import to_categorical\n",
    "from sklearn.model_selection import train_test_split\n",
    "from tensorflow.keras.preprocessing.image import load_img, img_to_array\n",
    "from tensorflow.python.keras.applications import ResNet5\n",
    "conda install scikit-learn"
   ]
  },
  {
   "cell_type": "code",
   "execution_count": null,
   "metadata": {},
   "outputs": [],
   "source": [
    "# Import the data\n",
    "import zipfile\n",
    "zip_ref = zipfile.ZipFile('dataset-resized.zip', 'r')\n",
    "zip_ref.extractall('./')\n",
    "zip_ref.close()"
   ]
  },
  {
   "cell_type": "code",
   "execution_count": null,
   "metadata": {},
   "outputs": [],
   "source": [
    "# Keras Generator\n",
    "import keras\n",
    "from keras.preprocessing.image import ImageDataGenerator\n",
    "from keras import optimizers\n",
    "train_datagen = ImageDataGenerator(\n",
    "   featurewise_center=True, featurewise_std_normalization=True,\n",
    "       rescale=1./255,\n",
    "       shear_range=0.4,\n",
    "       zoom_range=0.25,\n",
    "       horizontal_flip=True)\n",
    "#valid_datagen = ImageDataGenerator(rescale=1./255)\n",
    "train_generator = train_datagen.flow_from_directory(\n",
    "   directory=r\"./data/train/\",\n",
    "   target_size=(224,224),\n",
    "   color_mode=\"rgb\",\n",
    "   batch_size=32,\n",
    "   class_mode=\"categorical\",\n",
    "   shuffle=True,\n",
    "   seed=42\n",
    ")\n",
    "test_generator = train_datagen.flow_from_directory(\n",
    "   directory=r\"./data/test/\",\n",
    "   target_size=(224, 224),\n",
    "   color_mode=\"rgb\",\n",
    "   batch_size=32,\n",
    "   class_mode=\"categorical\",\n",
    "   shuffle=True,\n",
    "   seed=42\n",
    ")\n",
    "STEP_SIZE_VALID= test_generator.n//test_generator.batch_size\n",
    "STEP_SIZE_TRAIN= train_generator.n//train_generator.batch_size\n",
    "\n"
   ]
  },
  {
   "cell_type": "code",
   "execution_count": null,
   "metadata": {},
   "outputs": [],
   "source": [
    "import keras\n",
    "from keras.applications import VGG16\n",
    "from tensorflow.keras.applications.resnet50 import preprocess_input\n",
    "#from tensorflow.keras.applications import resnet\n",
    "from tensorflow.keras.preprocessing.image import load_img, img_to_array\n",
    "from keras.preprocessing import image\n",
    "\n",
    "\n",
    "from os.path import join, exists, expanduser\n",
    "from keras.preprocessing import image\n",
    "from keras.applications.imagenet_utils import decode_predictions"
   ]
  },
  {
   "cell_type": "code",
   "execution_count": null,
   "metadata": {},
   "outputs": [],
   "source": [
    "rand_state = 42\n",
    "tf.set_random_seed(rand_state)\n",
    "np.random.seed(rand_state)\n",
    "\n",
    "\n",
    "\n",
    "vgg_model = VGG16(weights = None, classes=6)\n",
    "vgg_model.compile(loss='binary_crossentropy',\n",
    "                     optimizer='adam',\n",
    "                     metrics=['accuracy’])\n",
    "\n",
    "\n",
    "vgg_model.fit_generator(generator=train_generator,\n",
    "                   steps_per_epoch=STEP_SIZE_TRAIN,\n",
    "                   epochs=4\n",
    ")\n",
    "\n",
    "vgg_model.evaluate_generator(generator=test_generator,steps=STEP_SIZE_VALID)\n",
    "\n",
    "model.metrics_names"
   ]
  }
 ],
 "metadata": {
  "kernelspec": {
   "display_name": "Python 3",
   "language": "python",
   "name": "python3"
  },
  "language_info": {
   "codemirror_mode": {
    "name": "ipython",
    "version": 3
   },
   "file_extension": ".py",
   "mimetype": "text/x-python",
   "name": "python",
   "nbconvert_exporter": "python",
   "pygments_lexer": "ipython3",
   "version": "3.7.3"
  }
 },
 "nbformat": 4,
 "nbformat_minor": 2
}
